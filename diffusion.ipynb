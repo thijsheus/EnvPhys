{
 "cells": [
  {
   "cell_type": "markdown",
   "metadata": {},
   "source": [
    "# Computer Lab: Polutant Diffusion\n",
    "Diffusion of species in air happens because random motion of the particles (atoms, moleculs, or aerosol) causes particles to collide with each other, resulting in a larger and larger cloud over time, with a diluted concentration. In this computer lab, we will explore several modes of diffusion:\n",
    "1) Molecular diffusion, which is dominant if the flow is laminar\n",
    "2) Turbulent diffusion, which is added if the flow is turbulent\n",
    "3) Sedimentation, which is added if the particles are heavy enough to no longer follow the flow"
   ]
  },
  {
   "cell_type": "code",
   "execution_count": null,
   "metadata": {},
   "outputs": [],
   "source": [
    "import numpy as np\n",
    "import matplotlib.pyplot as plt\n",
    "import seaborn as sns  \n",
    "from scipy.stats import norm\n"
   ]
  },
  {
   "cell_type": "markdown",
   "metadata": {},
   "source": [
    "### Q1 Molecular Diffusion\n",
    "Molecular diffusion happens because of random collisions between the molecules. So, we'll start with distributing $N$ molecules in a small box, and then giving each molecule a new velocity every timestep. This velocity is based on a normal distribution based on the temperature, defined by a standard deviation $\\sigma$:\n",
    "\n",
    "$\\sigma^2 = k_B \\frac{T}{m}$\n",
    "with $k_B$ the Boltzmann constant, and $m$ the mass of the molecule\n",
    "The timestep between each collision, is based on the relation between the molecular diffusion coefficient and the time between collisions:\n",
    "\n",
    "$\\Delta t  = \\frac{2D m }{k_B T}$\n"
   ]
  },
  {
   "cell_type": "code",
   "execution_count": null,
   "metadata": {},
   "outputs": [],
   "source": [
    "N = 500 #Number of molecules\n",
    "nt = 10000 #Number of time steps\n",
    "T = 300 #Temperature\n",
    "m = 7.35E-26 #Mass of molecule\n",
    "kb = 1.38E-23 #Boltzmann constant\n",
    "s = 1e-6    #Size of box\n",
    "D = 1.8E-5 #Diffusion coefficient\n",
    "\n",
    "sigma = np.sqrt(kb*T/m) #Standard deviation of Gaussian distribution\n",
    "dt = 2*D*m/(kb*T)\n",
    "\n",
    "#Initial positions\n",
    "x = np.zeros((N,nt))\n",
    "y = np.zeros((N,nt))\n",
    "z = np.zeros((N,nt))\n",
    "\n",
    "x[:,0] = np.random.uniform(-0.5, 0.5, N)*s\n",
    "y[:,0] = np.random.uniform(-0.5, 0.5, N)*s\n",
    "z[:,0] = np.random.uniform(-0.5, 0.5, N)*s\n",
    "\n"
   ]
  },
  {
   "cell_type": "code",
   "execution_count": null,
   "metadata": {},
   "outputs": [],
   "source": [
    "for t in range(1,nt):\n",
    "    vx = np.random.normal(0, sigma, N)\n",
    "    vy = np.random.normal(0, sigma, N)\n",
    "    vz = np.random.normal(0, sigma, N)\n",
    "    \n",
    "    x[:,t] = x[:,t-1] + vx*dt\n",
    "    y[:,t] = y[:,t-1] + vy*dt\n",
    "    z[:,t] = z[:,t-1] + vz*dt\n",
    "\n"
   ]
  },
  {
   "cell_type": "code",
   "execution_count": null,
   "metadata": {},
   "outputs": [],
   "source": [
    "#Plot the positions of a single molecule over time\n",
    "plt.plot(x[0,:], y[0,:], 'b')\n",
    "\n"
   ]
  },
  {
   "cell_type": "code",
   "execution_count": null,
   "metadata": {},
   "outputs": [],
   "source": [
    "#Plot the positions of all molecules at the beginning and end at the end\n",
    "sns.jointplot(x=x[:,0],y=y[:,0])\n",
    "sns.jointplot(x=x[:,-1],y=y[:,-1])"
   ]
  },
  {
   "cell_type": "markdown",
   "metadata": {},
   "source": [
    "# QUESTION: How far have the molecules dispersed over time? \n",
    "According to the Einstein-Smoluchowski diffusion law, the average square of displacement of particles goes linearly with time:\n",
    "\n",
    "$<r^2> = 6D \\cdot t$\n",
    "\n",
    "Compare that to the graphs above, some of the velocities of the particles, and how long it would take for a blob of air to cover:\n",
    "\n",
    "a) a box of 1mm\n",
    "\n",
    "b) an entire room of 10m wide. "
   ]
  },
  {
   "cell_type": "markdown",
   "metadata": {},
   "source": []
  },
  {
   "cell_type": "markdown",
   "metadata": {},
   "source": [
    "#Q2 Turbulent Viscosity\n",
    "Turbulent motion can create much larger spread, and creates an effective diffusion that goes with the Reynolds Number:\n",
    "\n",
    "$D_T = Re \\cdot D$, and starts to kick in the moment our blob becomes larger than 1mm in size. This also means that in the displacement equation above, we can add the Reynolds number to get a feeling for the spread:\n",
    "\n",
    "$<r^2> = 6Re \\cdot D\\cdot t$\n",
    "\n",
    "Look up the Reynolds number of the atmosphere, and calculate how long it would take to fill up the room above.\n"
   ]
  },
  {
   "cell_type": "markdown",
   "metadata": {},
   "source": []
  },
  {
   "cell_type": "markdown",
   "metadata": {},
   "source": [
    "### Question 3: Sedimentation\n",
    "As discussed in class, the average vertical velocity of a blob of aerosol is given by a balance between gravity and the drag force (Stokes' Law):\n",
    "\n",
    "$\\bar{v} = \\frac{d^2 g \\rho_p}{18 D}$\n",
    "\n",
    "with $d$ the diameter of the particles\n",
    "The random diffusion comes on top of that. In this exercise, we're calculating the amount of aerosol that has reached the ground as a function of time, 1.5m below the initial release height.\n"
   ]
  },
  {
   "cell_type": "code",
   "execution_count": null,
   "metadata": {},
   "outputs": [],
   "source": [
    "#Without diffusion: For different realistic aerosol sizes (1, 10, 100 micrometer), calculate the time it takes to hit the ground\n",
    "d = \n",
    "g = \n",
    "rho = \n",
    "D = 1.8E-5 #Diffusion coefficient\n",
    "\n",
    "vmean = \n"
   ]
  },
  {
   "cell_type": "markdown",
   "metadata": {},
   "source": [
    "## QUESTION: What are the times for aerosol to hit the ground?"
   ]
  },
  {
   "cell_type": "markdown",
   "metadata": {},
   "source": []
  },
  {
   "cell_type": "markdown",
   "metadata": {},
   "source": [
    "If we include turbulent diffusion, we have to calculate the normal distribution mean and standard deviation as a function of time, and then calculate the part of the distribution (the Cumulative Distribution Function, or CDF) that is still above h=0\n",
    "\n",
    "Copy/paste your mean velocity calculation from above, and use it to estimate the relative amount of aerosol that is still above ground after 2 hours."
   ]
  },
  {
   "cell_type": "code",
   "execution_count": null,
   "metadata": {},
   "outputs": [],
   "source": [
    "#With diffusion: For different realistic aerosol sizes (1, 10, 100 micrometer), calculate the time it takes to hit the ground\n",
    "\n",
    "\n",
    "Re = 1E5\n",
    "\n",
    "time = np.arange(0, 2*3600, 60) #Time in seconds for two hours\n",
    "stddev = np.sqrt(6*Re*D*time)\n",
    "h0 = 1.5 #Initial height in meters\n",
    "h = h0 - vmean * time\n",
    "inair = np.zeros(len(time))\n",
    "for t in range(len(time)):\n",
    "        inair[t] = norm.cdf(h[t], loc=0, scale = stddev[t])\n",
    "\n",
    "plt.plot(time/3600, inair)\n"
   ]
  },
  {
   "cell_type": "markdown",
   "metadata": {},
   "source": []
  }
 ],
 "metadata": {
  "kernelspec": {
   "display_name": "Python 3",
   "language": "python",
   "name": "python3"
  },
  "language_info": {
   "codemirror_mode": {
    "name": "ipython",
    "version": 3
   },
   "file_extension": ".py",
   "mimetype": "text/x-python",
   "name": "python",
   "nbconvert_exporter": "python",
   "pygments_lexer": "ipython3",
   "version": "3.7.0 (default, Jun 28 2018, 13:15:42) \n[GCC 7.2.0]"
  },
  "vscode": {
   "interpreter": {
    "hash": "0de885dc28d70ff2f795baacf9b675b8f065c138ddb9887099aeb02345be2d6e"
   }
  }
 },
 "nbformat": 4,
 "nbformat_minor": 4
}

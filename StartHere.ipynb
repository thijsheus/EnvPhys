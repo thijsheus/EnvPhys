{
 "cells": [
  {
   "cell_type": "markdown",
   "metadata": {},
   "source": [
    "# Computer Projects Environmental Physics\n"
   ]
  },
  {
   "cell_type": "code",
   "execution_count": 1,
   "metadata": {},
   "outputs": [
    {
     "data": {
      "text/html": [
       "\n",
       "<script>\n",
       "code_show=false;\n",
       "function code_toggle(){\n",
       "    if(code_show){$('.prompt, .input, .output_stderr, .output_error').hide();}\n",
       "    else{$('.input, .prompt, .output_stderr, .output_error').show();}\n",
       "    code_show=!code_show;\n",
       "}\n",
       "function initialize(){\n",
       "    code_toggle();\n",
       "}\n",
       "$(document).ready(initialize);\n",
       "</script>\n",
       "Click <a href=\"javascript:code_toggle()\">here</a> to show/hide codes in this notebook.\n"
      ],
      "text/plain": [
       "<IPython.core.display.HTML object>"
      ]
     },
     "execution_count": 1,
     "metadata": {},
     "output_type": "execute_result"
    }
   ],
   "source": [
    "from IPython.display import HTML\n",
    "HTML('''\n",
    "<script>\n",
    "code_show=false;\n",
    "function code_toggle(){\n",
    "    if(code_show){$('.prompt, .input, .output_stderr, .output_error').hide();}\n",
    "    else{$('.input, .prompt, .output_stderr, .output_error').show();}\n",
    "    code_show=!code_show;\n",
    "}\n",
    "function initialize(){\n",
    "    code_toggle();\n",
    "}\n",
    "$(document).ready(initialize);\n",
    "</script>\n",
    "Click <a href=\"javascript:code_toggle()\">here</a> to show/hide codes in this notebook.\n",
    "''')"
   ]
  },
  {
   "cell_type": "code",
   "execution_count": 2,
   "metadata": {},
   "outputs": [],
   "source": [
    "\n",
    "#Click Shift+Enter on these, just loading some default code\n",
    "import ipywidgets as widgets\n",
    "from IPython.display import display\n",
    "import functools\n",
    "import shutil\n",
    "def action(oper=\"\", fname=\"\"):\n",
    "    ret_string=\"\"\n",
    "    if oper==\"Retrieve\":\n",
    "        # shutil.copy(\"starting/\"+fname, fname)\n",
    "        ret_string = \"Retrieved starting file \"+fname\n",
    "    if oper==\"Submit\":\n",
    "        # shutil.copy(fname, \"submissions/\"+fname)\n",
    "        ret_string = \"Submitted file \"+fname\n",
    "    if oper==\"Get Feedback\":\n",
    "        # shutil.copy(\"feedback/\"+fname, fname)\n",
    "        ret_string = \"Retrieved feedback file \"+fname\n",
    "    \n",
    "    return ret_string\n",
    "\n",
    "def on_button_clicked(b, oper=\"\", fname=\"\"):\n",
    "    with output:\n",
    "        print(action(oper, fname))\n",
    "\n"
   ]
  },
  {
   "cell_type": "markdown",
   "metadata": {},
   "source": [
    "## Project 0: Getting to know Python\n",
    "The goal of this project is to get acquainted with the Python language and with our homework system. You will make some quick calculations and some graphs. Use this project as a reference if you need to look up how to work with things later.\n",
    "\n",
    "First, click on the __Retrieve__ button below to pull a start-up file.\n",
    "Then, click on the link below the buttons to start working on the files.\n",
    "When you're ready to submit your work, use the __Submit__ button\n",
    "When your instructor has reviewed your work, you may pull that up with the __Get Feedback__ button. Depending on the class instructions, you may continue to work on the Feedback version and resubmit.\n"
   ]
  },
  {
   "cell_type": "code",
   "execution_count": 3,
   "metadata": {},
   "outputs": [
    {
     "data": {
      "application/vnd.jupyter.widget-view+json": {
       "model_id": "d1d7dce903f44ea9a8979f8aa23f6b26",
       "version_major": 2,
       "version_minor": 0
      },
      "text/plain": [
       "Button(description='Retrieve', style=ButtonStyle())"
      ]
     },
     "metadata": {},
     "output_type": "display_data"
    },
    {
     "data": {
      "application/vnd.jupyter.widget-view+json": {
       "model_id": "f237af48a6364cfe851f27129f0d3145",
       "version_major": 2,
       "version_minor": 0
      },
      "text/plain": [
       "Button(description='Submit', style=ButtonStyle())"
      ]
     },
     "metadata": {},
     "output_type": "display_data"
    },
    {
     "data": {
      "application/vnd.jupyter.widget-view+json": {
       "model_id": "469474e75bc74c3aae80382ec5601a03",
       "version_major": 2,
       "version_minor": 0
      },
      "text/plain": [
       "Button(description='Get Feedback', style=ButtonStyle())"
      ]
     },
     "metadata": {},
     "output_type": "display_data"
    },
    {
     "data": {
      "application/vnd.jupyter.widget-view+json": {
       "model_id": "bd1d55ae625540af8b280d3c8fba42cf",
       "version_major": 2,
       "version_minor": 0
      },
      "text/plain": [
       "Output()"
      ]
     },
     "metadata": {},
     "output_type": "display_data"
    }
   ],
   "source": [
    "fname = ''\n",
    "button_ret = widgets.Button(description=\"Retrieve\")\n",
    "button_sub = widgets.Button(description=\"Submit\")\n",
    "button_fb  = widgets.Button(description=\"Get Feedback\")\n",
    "output = widgets.Output()\n",
    "\n",
    "display(button_ret, button_sub, button_fb, output)\n",
    "button_ret.on_click(functools.partial(on_button_clicked, oper=\"Retrieve\", fname=fname))\n",
    "button_sub.on_click(functools.partial(on_button_clicked, oper=\"Submit\", fname=fname))\n",
    "button_fb.on_click (functools.partial(on_button_clicked, oper=\"Get Feedback\", fname=fname))\n"
   ]
  },
  {
   "cell_type": "markdown",
   "metadata": {},
   "source": [
    "## Project 1: Wet Bulb Temperature\n",
    "The goal of this project is to explore the Wet Bulb Temperature, and the impact of humidity on human thermoregulation.\n",
    "\n"
   ]
  },
  {
   "cell_type": "code",
   "execution_count": 4,
   "metadata": {},
   "outputs": [
    {
     "data": {
      "application/vnd.jupyter.widget-view+json": {
       "model_id": "bfdd3029fb0d449087483d096fa5974d",
       "version_major": 2,
       "version_minor": 0
      },
      "text/plain": [
       "Button(description='Retrieve', style=ButtonStyle())"
      ]
     },
     "metadata": {},
     "output_type": "display_data"
    },
    {
     "data": {
      "application/vnd.jupyter.widget-view+json": {
       "model_id": "9306ea0b40104167accf2615ebf560d3",
       "version_major": 2,
       "version_minor": 0
      },
      "text/plain": [
       "Button(description='Submit', style=ButtonStyle())"
      ]
     },
     "metadata": {},
     "output_type": "display_data"
    },
    {
     "data": {
      "application/vnd.jupyter.widget-view+json": {
       "model_id": "a039f30f1bba4013a060ae68f688bf50",
       "version_major": 2,
       "version_minor": 0
      },
      "text/plain": [
       "Button(description='Get Feedback', style=ButtonStyle())"
      ]
     },
     "metadata": {},
     "output_type": "display_data"
    },
    {
     "data": {
      "application/vnd.jupyter.widget-view+json": {
       "model_id": "f7f8d7f9cbf445a8bee476203d3a2151",
       "version_major": 2,
       "version_minor": 0
      },
      "text/plain": [
       "Output()"
      ]
     },
     "metadata": {},
     "output_type": "display_data"
    }
   ],
   "source": [
    "fname = 'wetbulb.ipynb'\n",
    "button_ret = widgets.Button(description=\"Retrieve\")\n",
    "button_sub = widgets.Button(description=\"Submit\")\n",
    "button_fb  = widgets.Button(description=\"Get Feedback\")\n",
    "output = widgets.Output()\n",
    "\n",
    "display(button_ret, button_sub, button_fb, output)\n",
    "button_ret.on_click(functools.partial(on_button_clicked, oper=\"Retrieve\", fname=fname))\n",
    "button_sub.on_click(functools.partial(on_button_clicked, oper=\"Submit\", fname=fname))\n",
    "button_fb.on_click (functools.partial(on_button_clicked, oper=\"Get Feedback\", fname=fname))\n"
   ]
  },
  {
   "cell_type": "markdown",
   "metadata": {},
   "source": [
    "__[Click Here to begin](wetbulb.ipynb)__"
   ]
  },
  {
   "cell_type": "markdown",
   "metadata": {},
   "source": [
    "## Project 2: Climate Change: The US Warming Hole"
   ]
  },
  {
   "cell_type": "markdown",
   "metadata": {},
   "source": [
    "## Project 3: Dispersion of pollution"
   ]
  },
  {
   "cell_type": "code",
   "execution_count": 5,
   "metadata": {},
   "outputs": [
    {
     "data": {
      "text/html": [
       "<script>initialize();</script>Click <a href=\"javascript:code_toggle()\">here</a> to show/hide codes in this notebook."
      ],
      "text/plain": [
       "<IPython.core.display.HTML object>"
      ]
     },
     "execution_count": 5,
     "metadata": {},
     "output_type": "execute_result"
    }
   ],
   "source": [
    "HTML('''<script>initialize();</script>Click <a href=\"javascript:code_toggle()\">here</a> to show/hide codes in this notebook.''')\n"
   ]
  },
  {
   "cell_type": "code",
   "execution_count": null,
   "metadata": {},
   "outputs": [],
   "source": []
  },
  {
   "cell_type": "code",
   "execution_count": null,
   "metadata": {},
   "outputs": [],
   "source": []
  },
  {
   "cell_type": "code",
   "execution_count": null,
   "metadata": {},
   "outputs": [],
   "source": []
  }
 ],
 "metadata": {
  "kernelspec": {
   "display_name": "Python 3",
   "language": "python",
   "name": "python3"
  },
  "language_info": {
   "codemirror_mode": {
    "name": "ipython",
    "version": 3
   },
   "file_extension": ".py",
   "mimetype": "text/x-python",
   "name": "python",
   "nbconvert_exporter": "python",
   "pygments_lexer": "ipython3",
   "version": "3.6.8"
  },
  "vscode": {
   "interpreter": {
    "hash": "f508ca91fd6cd339ae29195f07edcd9e27b3603559ba484832f97ac5bd43014d"
   }
  }
 },
 "nbformat": 4,
 "nbformat_minor": 4
}

{
 "cells": [
  {
   "cell_type": "markdown",
   "id": "809c2268",
   "metadata": {},
   "source": [
    "## General Orientation"
   ]
  },
  {
   "cell_type": "markdown",
   "id": "3274f155",
   "metadata": {},
   "source": [
    "Welcome to Jupyter Notebook!\n",
    "\n",
    "Jupyter Notebook is one of several popular IDE platforms designed to improve your programming experience.\n",
    "...especially for beginners.\n",
    "\n",
    "Before you get started with your Python assignments, let's get more familier with Python coding if you're a beginner or just need a refresher.\n",
    "\n",
    "We will only cover some of the relevant basics and learn more through experience with your assignments.\n",
    "For a more thorough tutorial of basic coding in Python, check out: www.codeacademy.com and select the Python course."
   ]
  },
  {
   "cell_type": "markdown",
   "id": "719936c8",
   "metadata": {},
   "source": [
    "\n",
    "\n",
    "## Introduction: How Python works\n",
    "\n",
    "Without getting into the details of what kind of program Python is and how it compares with others such as Java and C++, just know that Python is unique because it allows users to run code line-by-line instead of having to compile the code after everything is completed.\n",
    "\n",
    "To run a line of code, simply enter the code and press the \"Run\" button featured in the tool panel at the top of your screen.\n",
    "\n"
   ]
  },
  {
   "cell_type": "markdown",
   "id": "1e4d026d",
   "metadata": {},
   "source": [
    "### Lesson 1: Libraries, Libraries, Libraries\n",
    "\n",
    "In programming, a library is a collection of existing functions that can be used in your code. (Don't worry, we will explain what a function is soon) \n",
    "\n",
    "Before we're able to access these libraries they need to be \"imported\" so that the your Notebook can easily access their unique functions.\n",
    "\n",
    "\n",
    "For all programming assignments, we highly recommend \"importing\" the following libraries before running the rest of your code.\n",
    "\n",
    "So you know, matplotlib is for ploting, numpy is to do numbers and math and arrays, and odeint is for numerical integration which we'll get to shortly.\n",
    "\n",
    "**Press shift+enter to \"run\" the code below and load the libraries.**"
   ]
  },
  {
   "cell_type": "code",
   "execution_count": 2,
   "id": "f24328a1",
   "metadata": {},
   "outputs": [],
   "source": [
    "from matplotlib import pyplot as plt\n",
    "import numpy as np\n"
   ]
  },
  {
   "cell_type": "markdown",
   "id": "bb2115ae",
   "metadata": {},
   "source": [
    "### Lesson 2: How to enter comments\n",
    "\n",
    "If you would like to enter a note while creating your code (to let yourself or your professor understand what you're doing! ;)), you will need to make sure that it is recognized as a comment and not as actual code that will be executed.\n",
    "\n",
    "One way to do this is by including triple quotation marks **(''')** before and after your comment.\n",
    "See the example below."
   ]
  },
  {
   "cell_type": "code",
   "execution_count": 3,
   "id": "c5c8c18e",
   "metadata": {},
   "outputs": [
    {
     "data": {
      "text/plain": [
       "\"\\nThis method is especially convenient for long comments or comments that require more than one line.\\n\\nNote that comments made using this method appear in red!\\n\\nIncidentally, note that using this method may produce an 'Output' as seen below.  Again press shift+enter to run this cell\\n\""
      ]
     },
     "execution_count": 3,
     "metadata": {},
     "output_type": "execute_result"
    }
   ],
   "source": [
    "'''\n",
    "This method is especially convenient for long comments or comments that require more than one line.\n",
    "\n",
    "Note that comments made using this method appear in red!\n",
    "\n",
    "Incidentally, note that using this method may produce an 'Output' as seen below.  \n",
    "\n",
    "Again press shift+enter to run this cell.\n",
    "'''"
   ]
  },
  {
   "cell_type": "markdown",
   "id": "c434b455",
   "metadata": {},
   "source": [
    "Another way to enter a comment is by including hashtag mark **(#)** before your single-line comment."
   ]
  },
  {
   "cell_type": "code",
   "execution_count": 4,
   "id": "1cef4664",
   "metadata": {},
   "outputs": [],
   "source": [
    "# This is the preferred method for shorter comments. Note that these comments appear in blue!"
   ]
  },
  {
   "cell_type": "markdown",
   "id": "b9e2ec6b",
   "metadata": {},
   "source": [
    "### Lesson 3: How to create a variable\n",
    "\n",
    "There are different types of variables in Python (and in other programs as well). A variable is used to store numeric values or other types of data depending on the variable's type. A few examples of variable types include: Integers, Floats, Strings, Booleans, Lists, and Dictionaries.\n",
    "\n",
    "However, for the majority of your assignments we'll only be interested in Integers, Floats, and a special type of Lists featured in numpy.\n",
    "\n",
    "Integer variables: as the name suggests, Integer variables exclusively store integer numeric values (positive or negative whole numbers) ... (Example: 1,2,3 ... 23412)\n",
    "\n",
    "Float variables: Float variables can store any type of numeric value including decimals ... (Example: -1, 2.3042, -4.3)\n",
    "\n",
    "List variables: List variables can store a series of compartmentalized data including numeric values.\n",
    "For example, let's take a look at the following list ( [0,2,5,8,29] ). Obviously, this list contains numeric values and has a size of 5! The list size indicates how many elements the list contains. Here, we see it only has 5!\n",
    "\n",
    "For more general information, check out: https://www.educba.com/python-variable-types/\n",
    "\n",
    "See the examples below."
   ]
  },
  {
   "cell_type": "code",
   "execution_count": 5,
   "id": "7f0190d2",
   "metadata": {},
   "outputs": [],
   "source": [
    "# Here we defined an integer variable named Integer with an assigned value of 54.\n",
    "Integer = 54\n",
    "\n",
    "# Note, we can change the content of any variable by simply re-assigning its value or content\n",
    "\n",
    "\n",
    "# Here we defined a float variable named Float with an assigned value of 6.5\n",
    "Float = 6.5\n",
    "\n",
    "\n",
    "# Here we defined a list variable named List with assigned values of 1, 4, 9, and 15\n",
    "List = np.array([1,4,9,15])\n",
    "\n",
    "\n",
    "# Here we show alternate ways to define lists that have values with regular intervals such as 0, 1, 2, 3, 4, 5, 6, 7, 8, 9\n",
    "\n",
    "Linear_List_1 = np.arange(0, 10, 1)     # np.arange(Start, End, Step)\n",
    "\n",
    "Linear_List_2 = np.linspace(0 , 9, 10)  # np.linspace(Start, End, Number of Values)\n",
    "\n"
   ]
  },
  {
   "cell_type": "markdown",
   "id": "64255b99",
   "metadata": {},
   "source": [
    "### Lesson 4: How to access individual elements from a list\n",
    "\n",
    "In certain situations it can be useful to isolate specific elements (values) from within a list.\n",
    "To access the first element of the list we created above, we will first enter the list name followed by square brackets with the appropriate element index.\n",
    "\n",
    "Example: \"List[0]\" has a value of \"1\"!\n",
    "\n",
    "Note that the reference index for a list begins with zero (\"0\"). See examples below.\n",
    "\n",
    "(\"List[0]\" has a value of \"1\"); (\"List[1]\" has a value of \"4\"); (\"List[2]\" has a value of \"9\"); (\"List[3]\" has a value of \"15\")\n",
    "\n",
    "See example below."
   ]
  },
  {
   "cell_type": "code",
   "execution_count": 6,
   "id": "23aca517",
   "metadata": {},
   "outputs": [
    {
     "data": {
      "text/plain": [
       "9"
      ]
     },
     "execution_count": 6,
     "metadata": {},
     "output_type": "execute_result"
    }
   ],
   "source": [
    "List[2]"
   ]
  },
  {
   "cell_type": "markdown",
   "id": "38f218c1-0fc5-40fb-a51e-ac88a55cccff",
   "metadata": {},
   "source": [
    "#### So now, how do you print the value 1? What would it's List command be?"
   ]
  },
  {
   "cell_type": "code",
   "execution_count": 7,
   "id": "d1a9c90b-4dce-43c2-96d7-0b3ca1dcdbe1",
   "metadata": {},
   "outputs": [
    {
     "data": {
      "text/plain": [
       "array([ 1,  4,  9, 15])"
      ]
     },
     "execution_count": 9,
     "metadata": {},
     "output_type": "execute_result"
    }
   ],
   "source": [
    "List[1]"
   ]
  },
  {
   "cell_type": "markdown",
   "id": "e5c2fcd8-dc0c-453c-a78f-24a2d0332795",
   "metadata": {},
   "source": [
    "### Lesson 5: Performing mathematical operations with variables\n",
    "\n",
    "\n",
    "Performing complex mathematical operations is Pythons specialty! In fact, Python is currently the preferred programming language used in the Sciences and Research. Fortunately, we'll learn Python calculating features gradually. Let's start with basic math operations.\n",
    "\n",
    "Let's define the variable Small and assign it a value of 6. Next, let's do the same for Big with a value of 9. Now, let's perform several mathematical operations with these variables. We will store the answer to these operations in an appropriately named variable."
   ]
  },
  {
   "cell_type": "code",
   "execution_count": 4,
   "id": "d67d968e",
   "metadata": {},
   "outputs": [
    {
     "ename": "SyntaxError",
     "evalue": "invalid syntax (<ipython-input-4-4d2ee7f10cee>, line 8)",
     "output_type": "error",
     "traceback": [
      "\u001b[0;36m  File \u001b[0;32m\"<ipython-input-4-4d2ee7f10cee>\"\u001b[0;36m, line \u001b[0;32m8\u001b[0m\n\u001b[0;31m    Difference =\u001b[0m\n\u001b[0m                  ^\u001b[0m\n\u001b[0;31mSyntaxError\u001b[0m\u001b[0;31m:\u001b[0m invalid syntax\n"
     ]
    }
   ],
   "source": [
    "Small = 6\n",
    "Big = 9\n",
    "\n",
    "# For example we can do a Sum with +: (6+9)\n",
    "Sum = Small + Big\n",
    "\n",
    "# Difference: Use - to substract Small from Big (9-6)\n",
    "Difference =  \n",
    "\n",
    "# Product: Use * to multiply Big and Small (9*6)\n",
    "Product = \n",
    "\n",
    "# Quotient: Use / to divide Big by Small (9/6)\n",
    "Quotient = \n",
    "\n",
    "# Exponentiation: Use ** to express Big to the Small power (9**6 = \"9^6\")\n",
    "Exponentiation = \n",
    "\n",
    "\n",
    "# The 'print( )' function displays the content within the parenthesis. Note the coding format within the parenthesis.\n",
    "\n",
    "print('Sum = ' + str(Sum))\n",
    "print('Difference = ' + str(Difference))\n",
    "print('Product = ' + str(Product))\n",
    "print('Quotient = ' + str(Quotient))\n",
    "print('Exponentiation = ' + str(Exponentiation))"
   ]
  },
  {
   "cell_type": "markdown",
   "id": "8e0b9a9f",
   "metadata": {},
   "source": [
    "### Lesson 6: Graphing\n",
    "\n",
    "Before you get started with your assignments, you will need an introduction to basic graphing in Python.\n",
    "\n",
    "**scatter:** The \"scatter\" graphing function simply allows you to graph selected points.\n",
    "\n",
    "**plot:** The \"plot\" function graphs line segments joining the adjacent selected points. (Joined in the sequence they're entered)  You can use markerstyle and linestyle/linewidth to adjust the shapes and colors and thickness of lines. For more details you can check out: https://matplotlib.org/stable/api/markers_api.html\n",
    "\n",
    "**xlabel, ylabel, title:** As the function names imply, the graph title and axes labels can be specified.\n",
    "\n",
    "Once again, this is only a brief introduction to a much greater set of features and specifications available for Python graphing. Here is a link to learn more: https://matplotlib.org/"
   ]
  },
  {
   "cell_type": "code",
   "execution_count": 9,
   "id": "5b96eada",
   "metadata": {},
   "outputs": [
    {
     "data": {
      "text/plain": [
       "<function matplotlib.pyplot.show(close=None, block=None)>"
      ]
     },
     "execution_count": 9,
     "metadata": {},
     "output_type": "execute_result"
    },
    {
     "data": {
      "image/png": "[encoded data removed]",
      "text/plain": [
       "<Figure size 432x288 with 1 Axes>"
      ]
     },
     "metadata": {
      "needs_background": "light"
     },
     "output_type": "display_data"
    }
   ],
   "source": [
    "# Let's graph the following points: (3,4) (9,7) (15,32) \n",
    "plt.scatter( [3,9,15] , [4,7,32] )\n",
    "\n",
    "# Let's also label our x and y axes\n",
    "plt.xlabel (\"x\")\n",
    "plt.ylabel (\"whY\")\n",
    "plt.show ()"
   ]
  },
  {
   "cell_type": "code",
   "execution_count": 10,
   "id": "a49c7842",
   "metadata": {},
   "outputs": [
    {
     "data": {
      "text/plain": [
       "<function matplotlib.pyplot.show(close=None, block=None)>"
      ]
     },
     "execution_count": 10,
     "metadata": {},
     "output_type": "execute_result"
    },
    {
     "data": {
      "image/png": "[encoded data removed]",
      "text/plain": [
       "<Figure size 432x288 with 1 Axes>"
      ]
     },
     "metadata": {
      "needs_background": "light"
     },
     "output_type": "display_data"
    }
   ],
   "source": [
    "# Now let's explore the plot function for the same points: (3,4) (9,7) (15,32) \n",
    "plt.plot( [3,9,15] , [4,7,32] )\n",
    "\n",
    "# Let's throw in a title too this time\n",
    "plt.xlabel (\"x\")\n",
    "plt.ylabel (\"y\")\n",
    "plt.title (\"Connect the dots!\")\n",
    "plt.show ()"
   ]
  },
  {
   "cell_type": "markdown",
   "id": "546b6061",
   "metadata": {},
   "source": [
    "#### Feeling a little adventurous? Let's explore a few graph customization features!\n",
    "\n",
    "\n",
    "#### Markers\n",
    "\n",
    "**Marker style:** \n",
    "\n",
    "Basic: https://www.tutorialkart.com/matplotlib-tutorial/matplotlib-pyplot-scatter-marker/\n",
    "\n",
    "Extended: https://www.pythonpool.com/matplotlib-marker/\n",
    "\n",
    "**Marker color:** https://www.tutorialkart.com/matplotlib-tutorial/matplotlib-pyplot-scatter-color/\n",
    "\n",
    "**Marker size:** https://www.tutorialkart.com/matplotlib-tutorial/matplotlib-pyplot-scatter-size/\n",
    "\n",
    "#### Lines\n",
    "\n",
    "**Line style:** https://matplotlib.org/stable/gallery/lines_bars_and_markers/linestyles.html\n",
    "\n",
    "**Line color:**\n",
    "\n",
    "Options: https://matplotlib.org/stable/gallery/color/named_colors.html\n",
    "\n",
    "Implementation: https://www.codespeedy.com/how-to-change-line-color-in-matplotlib/\n",
    "\n",
    "**Line thickness:** https://pythonguides.com/matplotlib-plot-a-line/"
   ]
  },
  {
   "cell_type": "code",
   "execution_count": 16,
   "id": "d0df1f64",
   "metadata": {},
   "outputs": [
    {
     "data": {
      "image/png": "[encoded data removed]",
      "text/plain": [
       "<Figure size 432x288 with 1 Axes>"
      ]
     },
     "metadata": {
      "needs_background": "light"
     },
     "output_type": "display_data"
    }
   ],
   "source": [
    "# Let's graph and plot the same points while customizing the styles, colors, and thickness\n",
    "\n",
    "# This line will be blue, dashed, and have a relative thickness of 5\n",
    "plt.plot( [3,9,15] , [4,7,32] , color = 'blue' , linestyle = 'dashed' , linewidth = 5)\n",
    "\n",
    "# This line will be red, solid, and have a relative thickness of 3\n",
    "plt.plot( [3,9,15] , [4,7,32] , color = 'red' , linestyle = 'solid' , linewidth = 3)\n",
    "\n",
    "# These points will be lime green cirles with a relative size of 200\n",
    "plt.scatter( [3,9,15] , [4,7,32] , c = 'lime' , marker = \"o\" , s = 200)\n",
    "\n",
    "# These points will be black X's with a relative size of 400\n",
    "plt.scatter( [3,9,15] , [4,7,32] , c = 'black' , marker = \"x\" , s = 400)\n",
    "\n",
    "plt.xlabel (\"x\")\n",
    "plt.ylabel (\"y\")\n",
    "plt.title (\"Connect the dots!\")\n",
    "plt.show ()"
   ]
  },
  {
   "cell_type": "code",
   "execution_count": null,
   "id": "a077ab9b",
   "metadata": {},
   "outputs": [],
   "source": [
    "# Your turn! Try to graph and plot a difference set of points using your own unique colors, sizes, and styles\n",
    "\n",
    "plt.plot(              )\n",
    "\n",
    "plt.scatter(             )\n",
    "\n",
    "plt.xlabel (\"Label Me\")\n",
    "plt.ylabel (\"Label Me\")\n",
    "plt.title (\"Label Me \")\n",
    "plt.show ()"
   ]
  },
  {
   "cell_type": "markdown",
   "id": "6c40932e-8447-4ede-a7f2-ddf3dc203884",
   "metadata": {},
   "source": [
    "### Lesson 7: Functions\n",
    "If there is some operation that we want to do often, we can put it in a function. For instance, remember the heat flux through a window with a conductive-convective layer of air around it, where we needed to guess the temperature to calculate the heat. The equation for Power was:\n",
    "    $j = \\frac{Q}{A t} = \\frac{T_{in} - T_{out}}{\\frac{2}{h}+\\frac{d}{k}}$\n",
    "    with $T$ the in and outdoor temperature (which we know), $d$ and $k$ the thickness and conductivity of the glass (known), and $h$ the thermal conductive layer, which is a function of temperature difference: $h = 1.8(\\Delta T)^{0.25}$. To speed up our guesses for $\\Delta T$, we put it in a function using the word *def*, and with the variables between parentheses as input."
   ]
  },
  {
   "cell_type": "code",
   "execution_count": 10,
   "id": "105c3238-2fb2-4826-92ad-65f2a912d8c0",
   "metadata": {},
   "outputs": [],
   "source": [
    "def calc_heatflux(Tin, Tout, DeltaT, d, k):\n",
    "    #Based on the input variables, we calculate h:\n",
    "    h = 1.8*DeltaT**0.25\n",
    "    #Now calculate the heatflux:\n",
    "    j = (Tin - Tout)/(2/h + d/k)\n",
    "    print(\"The Heat flux is:\", j, \"W/m2\")\n",
    "    #Now calculate what Delta T is so that we can compare with the guessed value:\n",
    "    DeltaT_Real = j*d/k\n",
    "    print(\"Delta T should have been:\", DeltaT_Real)\n",
    "                      "
   ]
  },
  {
   "cell_type": "markdown",
   "id": "bf5eb118-df96-4a63-90d3-a66febafe896",
   "metadata": {},
   "source": [
    "Now we can start guessing values to iterate to the right answer (take Tin=20C, Tout=0C, d=0.003m, k= 0.80W/mC)"
   ]
  },
  {
   "cell_type": "code",
   "execution_count": 15,
   "id": "783835a2-54d7-4668-ab27-a090bd78007c",
   "metadata": {},
   "outputs": [
    {
     "name": "stdout",
     "output_type": "stream",
     "text": [
      "The Heat flux is: 17.93945434159711 W/m2\n",
      "Delta T should have been: 0.06727295378098916\n",
      "The Heat flux is: 8.893761771403751 W/m2\n",
      "Delta T should have been: 0.03335160664276406\n",
      "The Heat flux is: 7.480717160674627 W/m2\n",
      "Delta T should have been: 0.028052689352529848\n",
      "The Heat flux is: 7.352970876181736 W/m2\n",
      "Delta T should have been: 0.02757364078568151\n",
      "The Heat flux is: 7.324615668343547 W/m2\n",
      "Delta T should have been: 0.027467308756288302\n"
     ]
    }
   ],
   "source": [
    "#First guess for DelatT: 1C\n",
    "calc_heatflux(Tin=20, Tout=0, d=0.003, k=0.80, DeltaT = 1)\n",
    "\n"
   ]
  },
  {
   "cell_type": "markdown",
   "id": "a729f7fb-d492-4713-96b2-7ed083d02b25",
   "metadata": {},
   "source": [
    "Now update the value for $\\Delta T$  that we put in the function; how many iterations do you need to get to less than 0.001C error?"
   ]
  },
  {
   "cell_type": "markdown",
   "id": "87cf6675-a70e-494a-9576-02a4e380c6d5",
   "metadata": {
    "tags": []
   },
   "source": [
    "### Practice, Practice, Practice!\n",
    "\n",
    "Experience is the best teacher. Let's try a few practice examples to get the hang of things!\n",
    "\n",
    "Before we start, it's time to introduce a few more mathmatical capabilities in Python.\n",
    "\n",
    "**np.pi:** This short code is equivalent to the value of PI (3.14 ...)\n",
    "\n",
    "**np.exp(power):** This code returns the value of e^(power)\n",
    "\n",
    "**np.sqrt(argument):** This returns the value of the square root of the argument\n",
    "\n",
    "**np.sin(argument) & np.cos(argument):** These return the sine or cosine of the argument interpreted as radians."
   ]
  },
  {
   "cell_type": "code",
   "execution_count": 11,
   "id": "fb16e159",
   "metadata": {
    "jupyter": {
     "source_hidden": true
    },
    "tags": []
   },
   "outputs": [],
   "source": [
    "# First things first. Import the libraries we will need by copy & pasting the library code shown in the Lesson 1.\n",
    "\n",
    "\n"
   ]
  },
  {
   "cell_type": "markdown",
   "id": "e89ed5f8",
   "metadata": {},
   "source": [
    "Remember to use shift+enter to run your code.  (You can also select the \"Run\" button featured in the tool panel at the top of your screen.)"
   ]
  },
  {
   "cell_type": "code",
   "execution_count": null,
   "id": "ef279574",
   "metadata": {},
   "outputs": [
    {
     "ename": "NameError",
     "evalue": "name 'np' is not defined",
     "output_type": "error",
     "traceback": [
      "\u001b[0;31m---------------------------------------------------------------------------\u001b[0m",
      "\u001b[0;31mNameError\u001b[0m                                 Traceback (most recent call last)",
      "\u001b[0;32m<ipython-input-1-68de513bed6e>\u001b[0m in \u001b[0;36m<module>\u001b[0;34m\u001b[0m\n\u001b[1;32m      1\u001b[0m \u001b[0;34m'''Let's define a variable named pi and assign it the value of PI.'''\u001b[0m\u001b[0;34m\u001b[0m\u001b[0;34m\u001b[0m\u001b[0m\n\u001b[0;32m----> 2\u001b[0;31m \u001b[0mpi\u001b[0m \u001b[0;34m=\u001b[0m \u001b[0mnp\u001b[0m\u001b[0;34m.\u001b[0m\u001b[0mpi\u001b[0m\u001b[0;34m\u001b[0m\u001b[0;34m\u001b[0m\u001b[0m\n\u001b[0m\u001b[1;32m      3\u001b[0m \u001b[0;34m\u001b[0m\u001b[0m\n\u001b[1;32m      4\u001b[0m \u001b[0mprint\u001b[0m\u001b[0;34m(\u001b[0m\u001b[0;34m'pi = '\u001b[0m \u001b[0;34m+\u001b[0m \u001b[0mstr\u001b[0m\u001b[0;34m(\u001b[0m\u001b[0mpi\u001b[0m\u001b[0;34m)\u001b[0m\u001b[0;34m)\u001b[0m\u001b[0;34m\u001b[0m\u001b[0;34m\u001b[0m\u001b[0m\n",
      "\u001b[0;31mNameError\u001b[0m: name 'np' is not defined"
     ]
    }
   ],
   "source": [
    "'''Let's define a variable named pi and assign it the value of PI.'''\n",
    "pi = np.pi\n",
    "\n",
    "print('pi = ' + str(pi))"
   ]
  },
  {
   "cell_type": "code",
   "execution_count": null,
   "id": "7906646e",
   "metadata": {},
   "outputs": [],
   "source": [
    "# Your turn! Create a list named Angles and assign it values from -2*pi to 2*pi in increments of pi using np.arange()\n",
    "Angles = \n",
    "\n",
    "# Run the code. Does your list look right? Redefine your list as necessary.\n",
    "print('Angles = ' + str(Angles))"
   ]
  },
  {
   "cell_type": "code",
   "execution_count": null,
   "id": "b7904556",
   "metadata": {},
   "outputs": [],
   "source": [
    "# This time, repeat the previous exercise using np.linspace()\n",
    "Angles = \n",
    "\n",
    "# Run the code. Does your list look right? Redefine your list as necessary.\n",
    "print('Angles = ' + str(Angles))"
   ]
  },
  {
   "cell_type": "code",
   "execution_count": null,
   "id": "3b8fb53b",
   "metadata": {
    "jupyter": {
     "source_hidden": true
    },
    "tags": []
   },
   "outputs": [],
   "source": [
    "'''Let's create a variable named Cosine and assign it the cosine values of the Angles we already defined.'''\n",
    "Cosine = np.cos(Angles)\n",
    "\n",
    "print('Cosine = ' + str(Cosine))"
   ]
  },
  {
   "cell_type": "code",
   "execution_count": null,
   "id": "8dfbebf9",
   "metadata": {},
   "outputs": [],
   "source": [
    "# Your turn! Redefine the Angles list with 25 equally spaced values from -2*pi to 2*pi\n",
    "Angles = \n",
    "\n",
    "# Next, define a variable Sine and assign it the sine values of the Angles we just defined\n",
    "Sine = \n",
    "\n",
    "# Finally, graph Angles vs. Sine using both plt.scatter and plt.plot\n",
    "plt.scatter( )\n",
    "plt.plot( )\n",
    "\n",
    "# Always label your graphs\n",
    "plt.xlabel (\" \")\n",
    "plt.ylabel (\" \")\n",
    "plt.title (\" \")\n",
    "plt.show ()"
   ]
  },
  {
   "cell_type": "markdown",
   "id": "85939457",
   "metadata": {},
   "source": [
    "Visit https://numpy.org/learn/ for more information and a comprehensive overview of the numpy library."
   ]
  }
 ],
 "metadata": {
  "kernelspec": {
   "display_name": "Python 3",
   "language": "python",
   "name": "python3"
  },
  "language_info": {
   "codemirror_mode": {
    "name": "ipython",
    "version": 3
   },
   "file_extension": ".py",
   "mimetype": "text/x-python",
   "name": "python",
   "nbconvert_exporter": "python",
   "pygments_lexer": "ipython3",
   "version": "3.6.8"
  }
 },
 "nbformat": 4,
 "nbformat_minor": 5
}
